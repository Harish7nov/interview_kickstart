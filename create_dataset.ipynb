{
 "cells": [
  {
   "cell_type": "code",
   "execution_count": 1,
   "id": "94d2b789",
   "metadata": {},
   "outputs": [
    {
     "name": "stderr",
     "output_type": "stream",
     "text": [
      "/Users/harishl/anaconda3/envs/ik_prob/lib/python3.11/site-packages/tqdm/auto.py:21: TqdmWarning: IProgress not found. Please update jupyter and ipywidgets. See https://ipywidgets.readthedocs.io/en/stable/user_install.html\n",
      "  from .autonotebook import tqdm as notebook_tqdm\n"
     ]
    }
   ],
   "source": [
    "from datasets import Dataset\n",
    "import json\n",
    "from transformers import AutoTokenizer\n",
    "import multiprocessing"
   ]
  },
  {
   "cell_type": "markdown",
   "id": "91ba32bd",
   "metadata": {},
   "source": [
    "# load the tokenizer"
   ]
  },
  {
   "cell_type": "code",
   "execution_count": 2,
   "id": "750baab9",
   "metadata": {},
   "outputs": [],
   "source": [
    "tokenizer = AutoTokenizer.from_pretrained(\"HuggingFaceTB/SmolLM-360M\")"
   ]
  },
  {
   "cell_type": "code",
   "execution_count": null,
   "id": "d2489218",
   "metadata": {},
   "outputs": [],
   "source": [
    "\n",
    "# * load the dataset\n",
    "data = []\n",
    "with open('event_text_mapping.jsonl', 'r') as file:\n",
    "    for line in file:\n",
    "        data.append(json.loads(line))\n"
   ]
  },
  {
   "cell_type": "code",
   "execution_count": 4,
   "id": "0fba8b7a",
   "metadata": {},
   "outputs": [
    {
     "data": {
      "text/plain": [
       "792"
      ]
     },
     "execution_count": 4,
     "metadata": {},
     "output_type": "execute_result"
    }
   ],
   "source": [
    "len(data)"
   ]
  },
  {
   "cell_type": "code",
   "execution_count": 5,
   "id": "8f65df1e",
   "metadata": {},
   "outputs": [
    {
     "data": {
      "text/plain": [
       "{'event_text': 'Late night study session at the café on 15th, Dec 2024 at 9:00 pm for 2 hours.',\n",
       " 'output': {'action': 'study session',\n",
       "  'date': '15/12/2024',\n",
       "  'time': '9:00 PM',\n",
       "  'attendees': None,\n",
       "  'location': 'café',\n",
       "  'duration': '2 hours',\n",
       "  'recurrence': None,\n",
       "  'notes': None}}"
      ]
     },
     "execution_count": 5,
     "metadata": {},
     "output_type": "execute_result"
    }
   ],
   "source": [
    "data[0]"
   ]
  },
  {
   "cell_type": "markdown",
   "id": "36ab435d",
   "metadata": {},
   "source": [
    "# process the dataset"
   ]
  },
  {
   "cell_type": "code",
   "execution_count": 6,
   "id": "52df9dfb",
   "metadata": {},
   "outputs": [],
   "source": [
    "def process_data(row):\n",
    "    query_text = \"<user>\" + row[\"event_text\"] + \"</user>\"\n",
    "    tool_text = \"<output>\" + json.dumps(row[\"output\"]) + \"</output>\"\n",
    "\n",
    "    # construct the final prompt on which the model will be finetuned\n",
    "    row[\"text\"] = query_text + tool_text + tokenizer.eos_token\n",
    "    return row"
   ]
  },
  {
   "cell_type": "code",
   "execution_count": 7,
   "id": "9a180109",
   "metadata": {},
   "outputs": [
    {
     "name": "stdout",
     "output_type": "stream",
     "text": [
      "{'event_text': 'Late night study session at the café on 15th, Dec 2024 at 9:00 pm for 2 hours.', 'output': {'action': 'study session', 'attendees': None, 'date': '15/12/2024', 'duration': '2 hours', 'location': 'café', 'notes': None, 'recurrence': None, 'time': '9:00 PM'}}\n"
     ]
    }
   ],
   "source": [
    "dataset = Dataset.from_list(data)\n",
    "print(dataset[0])"
   ]
  },
  {
   "cell_type": "code",
   "execution_count": 8,
   "id": "01f305fa",
   "metadata": {},
   "outputs": [
    {
     "name": "stderr",
     "output_type": "stream",
     "text": [
      "Map (num_proc=14): 100%|██████████| 792/792 [00:00<00:00, 4428.09 examples/s]\n"
     ]
    }
   ],
   "source": [
    "dataset = dataset.map(\n",
    "    process_data,\n",
    "    num_proc= multiprocessing.cpu_count(),\n",
    "    load_from_cache_file=False,\n",
    ")"
   ]
  },
  {
   "cell_type": "code",
   "execution_count": 9,
   "id": "f514cc65",
   "metadata": {},
   "outputs": [],
   "source": [
    "train_valid = dataset.train_test_split(test_size=0.2, seed=42)"
   ]
  },
  {
   "cell_type": "markdown",
   "id": "cdb50984",
   "metadata": {},
   "source": [
    "# create a folder \"data\" in your cwd"
   ]
  },
  {
   "cell_type": "code",
   "execution_count": 10,
   "id": "ee6a2c9f",
   "metadata": {},
   "outputs": [
    {
     "name": "stderr",
     "output_type": "stream",
     "text": [
      "Creating json from Arrow format: 100%|██████████| 1/1 [00:00<00:00, 64.22ba/s]\n",
      "Creating json from Arrow format: 100%|██████████| 1/1 [00:00<00:00, 335.92ba/s]\n"
     ]
    },
    {
     "data": {
      "text/plain": [
       "94364"
      ]
     },
     "execution_count": 10,
     "metadata": {},
     "output_type": "execute_result"
    }
   ],
   "source": [
    "train_valid[\"train\"].to_json(\"data/train.jsonl\")\n",
    "train_valid[\"test\"].to_json(\"data/valid.jsonl\")"
   ]
  },
  {
   "cell_type": "code",
   "execution_count": null,
   "id": "5f59fff8",
   "metadata": {},
   "outputs": [],
   "source": []
  },
  {
   "cell_type": "code",
   "execution_count": null,
   "id": "472857bf",
   "metadata": {},
   "outputs": [],
   "source": []
  },
  {
   "cell_type": "code",
   "execution_count": null,
   "id": "ddbec2be",
   "metadata": {},
   "outputs": [],
   "source": []
  }
 ],
 "metadata": {
  "kernelspec": {
   "display_name": "ik_prob",
   "language": "python",
   "name": "python3"
  },
  "language_info": {
   "codemirror_mode": {
    "name": "ipython",
    "version": 3
   },
   "file_extension": ".py",
   "mimetype": "text/x-python",
   "name": "python",
   "nbconvert_exporter": "python",
   "pygments_lexer": "ipython3",
   "version": "3.11.13"
  }
 },
 "nbformat": 4,
 "nbformat_minor": 5
}
